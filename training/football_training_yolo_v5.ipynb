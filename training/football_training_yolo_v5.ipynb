{
 "cells": [
  {
   "cell_type": "code",
   "execution_count": 1,
   "id": "initial_id",
   "metadata": {
    "collapsed": true,
    "ExecuteTime": {
     "end_time": "2024-05-26T16:12:27.189291Z",
     "start_time": "2024-05-26T16:12:12.262502Z"
    }
   },
   "outputs": [
    {
     "name": "stdout",
     "output_type": "stream",
     "text": [
      "Requirement already satisfied: ultralytics in /Users/pawelkwiatkowski/projects/football_analysis/.venv/lib/python3.11/site-packages (8.2.22)\r\n",
      "Requirement already satisfied: matplotlib>=3.3.0 in /Users/pawelkwiatkowski/projects/football_analysis/.venv/lib/python3.11/site-packages (from ultralytics) (3.9.0)\r\n",
      "Requirement already satisfied: opencv-python>=4.6.0 in /Users/pawelkwiatkowski/projects/football_analysis/.venv/lib/python3.11/site-packages (from ultralytics) (4.9.0.80)\r\n",
      "Requirement already satisfied: pillow>=7.1.2 in /Users/pawelkwiatkowski/projects/football_analysis/.venv/lib/python3.11/site-packages (from ultralytics) (10.3.0)\r\n",
      "Requirement already satisfied: pyyaml>=5.3.1 in /Users/pawelkwiatkowski/projects/football_analysis/.venv/lib/python3.11/site-packages (from ultralytics) (6.0.1)\r\n",
      "Requirement already satisfied: requests>=2.23.0 in /Users/pawelkwiatkowski/projects/football_analysis/.venv/lib/python3.11/site-packages (from ultralytics) (2.32.2)\r\n",
      "Requirement already satisfied: scipy>=1.4.1 in /Users/pawelkwiatkowski/projects/football_analysis/.venv/lib/python3.11/site-packages (from ultralytics) (1.13.1)\r\n",
      "Requirement already satisfied: torch>=1.8.0 in /Users/pawelkwiatkowski/projects/football_analysis/.venv/lib/python3.11/site-packages (from ultralytics) (2.3.0)\r\n",
      "Requirement already satisfied: torchvision>=0.9.0 in /Users/pawelkwiatkowski/projects/football_analysis/.venv/lib/python3.11/site-packages (from ultralytics) (0.18.0)\r\n",
      "Requirement already satisfied: tqdm>=4.64.0 in /Users/pawelkwiatkowski/projects/football_analysis/.venv/lib/python3.11/site-packages (from ultralytics) (4.66.4)\r\n",
      "Requirement already satisfied: psutil in /Users/pawelkwiatkowski/projects/football_analysis/.venv/lib/python3.11/site-packages (from ultralytics) (5.9.8)\r\n",
      "Requirement already satisfied: py-cpuinfo in /Users/pawelkwiatkowski/projects/football_analysis/.venv/lib/python3.11/site-packages (from ultralytics) (9.0.0)\r\n",
      "Requirement already satisfied: thop>=0.1.1 in /Users/pawelkwiatkowski/projects/football_analysis/.venv/lib/python3.11/site-packages (from ultralytics) (0.1.1.post2209072238)\r\n",
      "Requirement already satisfied: pandas>=1.1.4 in /Users/pawelkwiatkowski/projects/football_analysis/.venv/lib/python3.11/site-packages (from ultralytics) (2.2.2)\r\n",
      "Requirement already satisfied: seaborn>=0.11.0 in /Users/pawelkwiatkowski/projects/football_analysis/.venv/lib/python3.11/site-packages (from ultralytics) (0.13.2)\r\n",
      "Requirement already satisfied: contourpy>=1.0.1 in /Users/pawelkwiatkowski/projects/football_analysis/.venv/lib/python3.11/site-packages (from matplotlib>=3.3.0->ultralytics) (1.2.1)\r\n",
      "Requirement already satisfied: cycler>=0.10 in /Users/pawelkwiatkowski/projects/football_analysis/.venv/lib/python3.11/site-packages (from matplotlib>=3.3.0->ultralytics) (0.12.1)\r\n",
      "Requirement already satisfied: fonttools>=4.22.0 in /Users/pawelkwiatkowski/projects/football_analysis/.venv/lib/python3.11/site-packages (from matplotlib>=3.3.0->ultralytics) (4.52.1)\r\n",
      "Requirement already satisfied: kiwisolver>=1.3.1 in /Users/pawelkwiatkowski/projects/football_analysis/.venv/lib/python3.11/site-packages (from matplotlib>=3.3.0->ultralytics) (1.4.5)\r\n",
      "Requirement already satisfied: numpy>=1.23 in /Users/pawelkwiatkowski/projects/football_analysis/.venv/lib/python3.11/site-packages (from matplotlib>=3.3.0->ultralytics) (1.26.4)\r\n",
      "Requirement already satisfied: packaging>=20.0 in /Users/pawelkwiatkowski/projects/football_analysis/.venv/lib/python3.11/site-packages (from matplotlib>=3.3.0->ultralytics) (24.0)\r\n",
      "Requirement already satisfied: pyparsing>=2.3.1 in /Users/pawelkwiatkowski/projects/football_analysis/.venv/lib/python3.11/site-packages (from matplotlib>=3.3.0->ultralytics) (3.1.2)\r\n",
      "Requirement already satisfied: python-dateutil>=2.7 in /Users/pawelkwiatkowski/projects/football_analysis/.venv/lib/python3.11/site-packages (from matplotlib>=3.3.0->ultralytics) (2.9.0.post0)\r\n",
      "Requirement already satisfied: pytz>=2020.1 in /Users/pawelkwiatkowski/projects/football_analysis/.venv/lib/python3.11/site-packages (from pandas>=1.1.4->ultralytics) (2024.1)\r\n",
      "Requirement already satisfied: tzdata>=2022.7 in /Users/pawelkwiatkowski/projects/football_analysis/.venv/lib/python3.11/site-packages (from pandas>=1.1.4->ultralytics) (2024.1)\r\n",
      "Requirement already satisfied: charset-normalizer<4,>=2 in /Users/pawelkwiatkowski/projects/football_analysis/.venv/lib/python3.11/site-packages (from requests>=2.23.0->ultralytics) (3.3.2)\r\n",
      "Requirement already satisfied: idna<4,>=2.5 in /Users/pawelkwiatkowski/projects/football_analysis/.venv/lib/python3.11/site-packages (from requests>=2.23.0->ultralytics) (3.7)\r\n",
      "Requirement already satisfied: urllib3<3,>=1.21.1 in /Users/pawelkwiatkowski/projects/football_analysis/.venv/lib/python3.11/site-packages (from requests>=2.23.0->ultralytics) (2.2.1)\r\n",
      "Requirement already satisfied: certifi>=2017.4.17 in /Users/pawelkwiatkowski/projects/football_analysis/.venv/lib/python3.11/site-packages (from requests>=2.23.0->ultralytics) (2024.2.2)\r\n",
      "Requirement already satisfied: filelock in /Users/pawelkwiatkowski/projects/football_analysis/.venv/lib/python3.11/site-packages (from torch>=1.8.0->ultralytics) (3.14.0)\r\n",
      "Requirement already satisfied: typing-extensions>=4.8.0 in /Users/pawelkwiatkowski/projects/football_analysis/.venv/lib/python3.11/site-packages (from torch>=1.8.0->ultralytics) (4.12.0)\r\n",
      "Requirement already satisfied: sympy in /Users/pawelkwiatkowski/projects/football_analysis/.venv/lib/python3.11/site-packages (from torch>=1.8.0->ultralytics) (1.12)\r\n",
      "Requirement already satisfied: networkx in /Users/pawelkwiatkowski/projects/football_analysis/.venv/lib/python3.11/site-packages (from torch>=1.8.0->ultralytics) (3.3)\r\n",
      "Requirement already satisfied: jinja2 in /Users/pawelkwiatkowski/projects/football_analysis/.venv/lib/python3.11/site-packages (from torch>=1.8.0->ultralytics) (3.1.4)\r\n",
      "Requirement already satisfied: fsspec in /Users/pawelkwiatkowski/projects/football_analysis/.venv/lib/python3.11/site-packages (from torch>=1.8.0->ultralytics) (2024.5.0)\r\n",
      "Requirement already satisfied: six>=1.5 in /Users/pawelkwiatkowski/projects/football_analysis/.venv/lib/python3.11/site-packages (from python-dateutil>=2.7->matplotlib>=3.3.0->ultralytics) (1.16.0)\r\n",
      "Requirement already satisfied: MarkupSafe>=2.0 in /Users/pawelkwiatkowski/projects/football_analysis/.venv/lib/python3.11/site-packages (from jinja2->torch>=1.8.0->ultralytics) (2.1.5)\r\n",
      "Requirement already satisfied: mpmath>=0.19 in /Users/pawelkwiatkowski/projects/football_analysis/.venv/lib/python3.11/site-packages (from sympy->torch>=1.8.0->ultralytics) (1.3.0)\r\n",
      "Collecting roboflow\r\n",
      "  Downloading roboflow-1.1.30-py3-none-any.whl.metadata (9.3 kB)\r\n",
      "Collecting certifi==2023.7.22 (from roboflow)\r\n",
      "  Downloading certifi-2023.7.22-py3-none-any.whl.metadata (2.2 kB)\r\n",
      "Collecting chardet==4.0.0 (from roboflow)\r\n",
      "  Downloading chardet-4.0.0-py2.py3-none-any.whl.metadata (3.5 kB)\r\n",
      "Collecting cycler==0.10.0 (from roboflow)\r\n",
      "  Downloading cycler-0.10.0-py2.py3-none-any.whl.metadata (722 bytes)\r\n",
      "Collecting idna==2.10 (from roboflow)\r\n",
      "  Downloading idna-2.10-py2.py3-none-any.whl.metadata (9.1 kB)\r\n",
      "Requirement already satisfied: kiwisolver>=1.3.1 in /Users/pawelkwiatkowski/projects/football_analysis/.venv/lib/python3.11/site-packages (from roboflow) (1.4.5)\r\n",
      "Requirement already satisfied: matplotlib in /Users/pawelkwiatkowski/projects/football_analysis/.venv/lib/python3.11/site-packages (from roboflow) (3.9.0)\r\n",
      "Requirement already satisfied: numpy>=1.18.5 in /Users/pawelkwiatkowski/projects/football_analysis/.venv/lib/python3.11/site-packages (from roboflow) (1.26.4)\r\n",
      "Collecting opencv-python-headless==4.8.0.74 (from roboflow)\r\n",
      "  Downloading opencv_python_headless-4.8.0.74-cp37-abi3-macosx_11_0_arm64.whl.metadata (19 kB)\r\n",
      "Requirement already satisfied: Pillow>=7.1.2 in /Users/pawelkwiatkowski/projects/football_analysis/.venv/lib/python3.11/site-packages (from roboflow) (10.3.0)\r\n",
      "Requirement already satisfied: python-dateutil in /Users/pawelkwiatkowski/projects/football_analysis/.venv/lib/python3.11/site-packages (from roboflow) (2.9.0.post0)\r\n",
      "Collecting python-dotenv (from roboflow)\r\n",
      "  Downloading python_dotenv-1.0.1-py3-none-any.whl.metadata (23 kB)\r\n",
      "Requirement already satisfied: requests in /Users/pawelkwiatkowski/projects/football_analysis/.venv/lib/python3.11/site-packages (from roboflow) (2.32.2)\r\n",
      "Requirement already satisfied: six in /Users/pawelkwiatkowski/projects/football_analysis/.venv/lib/python3.11/site-packages (from roboflow) (1.16.0)\r\n",
      "Requirement already satisfied: urllib3>=1.26.6 in /Users/pawelkwiatkowski/projects/football_analysis/.venv/lib/python3.11/site-packages (from roboflow) (2.2.1)\r\n",
      "Requirement already satisfied: tqdm>=4.41.0 in /Users/pawelkwiatkowski/projects/football_analysis/.venv/lib/python3.11/site-packages (from roboflow) (4.66.4)\r\n",
      "Requirement already satisfied: PyYAML>=5.3.1 in /Users/pawelkwiatkowski/projects/football_analysis/.venv/lib/python3.11/site-packages (from roboflow) (6.0.1)\r\n",
      "Collecting requests-toolbelt (from roboflow)\r\n",
      "  Downloading requests_toolbelt-1.0.0-py2.py3-none-any.whl.metadata (14 kB)\r\n",
      "Collecting python-magic (from roboflow)\r\n",
      "  Downloading python_magic-0.4.27-py2.py3-none-any.whl.metadata (5.8 kB)\r\n",
      "Requirement already satisfied: contourpy>=1.0.1 in /Users/pawelkwiatkowski/projects/football_analysis/.venv/lib/python3.11/site-packages (from matplotlib->roboflow) (1.2.1)\r\n",
      "Requirement already satisfied: fonttools>=4.22.0 in /Users/pawelkwiatkowski/projects/football_analysis/.venv/lib/python3.11/site-packages (from matplotlib->roboflow) (4.52.1)\r\n",
      "Requirement already satisfied: packaging>=20.0 in /Users/pawelkwiatkowski/projects/football_analysis/.venv/lib/python3.11/site-packages (from matplotlib->roboflow) (24.0)\r\n",
      "Requirement already satisfied: pyparsing>=2.3.1 in /Users/pawelkwiatkowski/projects/football_analysis/.venv/lib/python3.11/site-packages (from matplotlib->roboflow) (3.1.2)\r\n",
      "Requirement already satisfied: charset-normalizer<4,>=2 in /Users/pawelkwiatkowski/projects/football_analysis/.venv/lib/python3.11/site-packages (from requests->roboflow) (3.3.2)\r\n",
      "Downloading roboflow-1.1.30-py3-none-any.whl (75 kB)\r\n",
      "\u001B[2K   \u001B[90m━━━━━━━━━━━━━━━━━━━━━━━━━━━━━━━━━━━━━━━━\u001B[0m \u001B[32m75.5/75.5 kB\u001B[0m \u001B[31m1.6 MB/s\u001B[0m eta \u001B[36m0:00:00\u001B[0ma \u001B[36m0:00:01\u001B[0m\r\n",
      "\u001B[?25hDownloading certifi-2023.7.22-py3-none-any.whl (158 kB)\r\n",
      "\u001B[2K   \u001B[90m━━━━━━━━━━━━━━━━━━━━━━━━━━━━━━━━━━━━━━━━\u001B[0m \u001B[32m158.3/158.3 kB\u001B[0m \u001B[31m3.7 MB/s\u001B[0m eta \u001B[36m0:00:00\u001B[0ma \u001B[36m0:00:01\u001B[0m\r\n",
      "\u001B[?25hDownloading chardet-4.0.0-py2.py3-none-any.whl (178 kB)\r\n",
      "\u001B[2K   \u001B[90m━━━━━━━━━━━━━━━━━━━━━━━━━━━━━━━━━━━━━━━━\u001B[0m \u001B[32m178.7/178.7 kB\u001B[0m \u001B[31m13.5 MB/s\u001B[0m eta \u001B[36m0:00:00\u001B[0m\r\n",
      "\u001B[?25hDownloading cycler-0.10.0-py2.py3-none-any.whl (6.5 kB)\r\n",
      "Downloading idna-2.10-py2.py3-none-any.whl (58 kB)\r\n",
      "\u001B[2K   \u001B[90m━━━━━━━━━━━━━━━━━━━━━━━━━━━━━━━━━━━━━━━━\u001B[0m \u001B[32m58.8/58.8 kB\u001B[0m \u001B[31m9.2 MB/s\u001B[0m eta \u001B[36m0:00:00\u001B[0m\r\n",
      "\u001B[?25hDownloading opencv_python_headless-4.8.0.74-cp37-abi3-macosx_11_0_arm64.whl (33.1 MB)\r\n",
      "\u001B[2K   \u001B[90m━━━━━━━━━━━━━━━━━━━━━━━━━━━━━━━━━━━━━━━━\u001B[0m \u001B[32m33.1/33.1 MB\u001B[0m \u001B[31m3.1 MB/s\u001B[0m eta \u001B[36m0:00:00\u001B[0m00:01\u001B[0m00:01\u001B[0m\r\n",
      "\u001B[?25hDownloading python_dotenv-1.0.1-py3-none-any.whl (19 kB)\r\n",
      "Downloading python_magic-0.4.27-py2.py3-none-any.whl (13 kB)\r\n",
      "Downloading requests_toolbelt-1.0.0-py2.py3-none-any.whl (54 kB)\r\n",
      "\u001B[2K   \u001B[90m━━━━━━━━━━━━━━━━━━━━━━━━━━━━━━━━━━━━━━━━\u001B[0m \u001B[32m54.5/54.5 kB\u001B[0m \u001B[31m2.8 MB/s\u001B[0m eta \u001B[36m0:00:00\u001B[0m\r\n",
      "\u001B[?25hInstalling collected packages: python-magic, python-dotenv, opencv-python-headless, idna, cycler, chardet, certifi, requests-toolbelt, roboflow\r\n",
      "  Attempting uninstall: idna\r\n",
      "    Found existing installation: idna 3.7\r\n",
      "    Uninstalling idna-3.7:\r\n",
      "      Successfully uninstalled idna-3.7\r\n",
      "  Attempting uninstall: cycler\r\n",
      "    Found existing installation: cycler 0.12.1\r\n",
      "    Uninstalling cycler-0.12.1:\r\n",
      "      Successfully uninstalled cycler-0.12.1\r\n",
      "  Attempting uninstall: certifi\r\n",
      "    Found existing installation: certifi 2024.2.2\r\n",
      "    Uninstalling certifi-2024.2.2:\r\n",
      "      Successfully uninstalled certifi-2024.2.2\r\n",
      "Successfully installed certifi-2023.7.22 chardet-4.0.0 cycler-0.10.0 idna-2.10 opencv-python-headless-4.8.0.74 python-dotenv-1.0.1 python-magic-0.4.27 requests-toolbelt-1.0.0 roboflow-1.1.30\r\n"
     ]
    }
   ],
   "source": [
    "!pip install ultralytics\n",
    "!pip install roboflow"
   ]
  },
  {
   "cell_type": "code",
   "outputs": [
    {
     "name": "stdout",
     "output_type": "stream",
     "text": [
      "loading Roboflow workspace...\n",
      "loading Roboflow project...\n"
     ]
    },
    {
     "name": "stderr",
     "output_type": "stream",
     "text": [
      "Downloading Dataset Version Zip in football-players-detection-1 to yolov5pytorch:: 100%|██████████| 148663/148663 [00:08<00:00, 18290.53it/s]"
     ]
    },
    {
     "name": "stdout",
     "output_type": "stream",
     "text": []
    },
    {
     "name": "stderr",
     "output_type": "stream",
     "text": [
      "\n",
      "Extracting Dataset Version Zip to football-players-detection-1 in yolov5pytorch:: 100%|██████████| 1338/1338 [00:00<00:00, 3099.60it/s]\n"
     ]
    }
   ],
   "source": [
    "\n",
    "from roboflow import Roboflow\n",
    "\n",
    "rf = Roboflow(api_key=\"MiieRxiTSvgQGlurtwLB\")\n",
    "project = rf.workspace(\"roboflow-jvuqo\").project(\"football-players-detection-3zvbc\")\n",
    "version = project.version(1)\n",
    "dataset = version.download(\"yolov5\")\n"
   ],
   "metadata": {
    "collapsed": false,
    "ExecuteTime": {
     "end_time": "2024-05-26T16:12:51.183638Z",
     "start_time": "2024-05-26T16:12:27.190510Z"
    }
   },
   "id": "a2d99269fee104a6",
   "execution_count": 2
  },
  {
   "cell_type": "code",
   "outputs": [
    {
     "data": {
      "text/plain": "'/Users/pawelkwiatkowski/projects/football_analysis/training/football-players-detection-1'"
     },
     "execution_count": 3,
     "metadata": {},
     "output_type": "execute_result"
    }
   ],
   "source": [
    "dataset.location\n"
   ],
   "metadata": {
    "collapsed": false,
    "ExecuteTime": {
     "end_time": "2024-05-26T16:16:19.618227Z",
     "start_time": "2024-05-26T16:16:19.613741Z"
    }
   },
   "id": "ca25a132021a0e10",
   "execution_count": 3
  },
  {
   "cell_type": "code",
   "outputs": [
    {
     "data": {
      "text/plain": "'football-players-detection-1/football-players-detection-1/valid'"
     },
     "execution_count": 4,
     "metadata": {},
     "output_type": "execute_result"
    }
   ],
   "source": [
    "import shutil\n",
    "\n",
    "shutil.move('football-players-detection-1/train', 'football-players-detection-1/football-players-detection-1/train')\n",
    "shutil.move('football-players-detection-1/test', 'football-players-detection-1/football-players-detection-1/test')\n",
    "shutil.move('football-players-detection-1/valid', 'football-players-detection-1/football-players-detection-1/valid')"
   ],
   "metadata": {
    "collapsed": false,
    "ExecuteTime": {
     "end_time": "2024-05-26T16:17:21.367273Z",
     "start_time": "2024-05-26T16:17:21.363462Z"
    }
   },
   "id": "35264d07f4a5e1a6",
   "execution_count": 4
  },
  {
   "cell_type": "code",
   "outputs": [],
   "source": [],
   "metadata": {
    "collapsed": false
   },
   "id": "5466ef56576f2867"
  },
  {
   "cell_type": "markdown",
   "source": [
    "Training"
   ],
   "metadata": {
    "collapsed": false
   },
   "id": "6a1d48cd7d3b5bad"
  },
  {
   "cell_type": "code",
   "outputs": [
    {
     "name": "stdout",
     "output_type": "stream",
     "text": [
      "PRO TIP 💡 Replace 'model=yolov5x.pt' with new 'model=yolov5xu.pt'.\r\n",
      "YOLOv5 'u' models are trained with https://github.com/ultralytics/ultralytics and feature improved performance vs standard YOLOv5 models trained with https://github.com/ultralytics/yolov5.\r\n",
      "\r\n",
      "Downloading https://github.com/ultralytics/assets/releases/download/v8.2.0/yolov5xu.pt to 'yolov5xu.pt'...\r\n",
      "100%|████████████████████████████████████████| 186M/186M [00:04<00:00, 44.8MB/s]\r\n",
      "Ultralytics YOLOv8.2.22 🚀 Python-3.11.7 torch-2.3.0 CPU (Apple M2)\r\n",
      "\u001B[34m\u001B[1mengine/trainer: \u001B[0mtask=detect, mode=train, model=yolov5x.pt, data=/Users/pawelkwiatkowski/projects/football_analysis/training/football-players-detection-1/data.yaml, epochs=100, time=None, patience=100, batch=16, imgsz=640, save=True, save_period=-1, cache=False, device=None, workers=8, project=None, name=train, exist_ok=False, pretrained=True, optimizer=auto, verbose=True, seed=0, deterministic=True, single_cls=False, rect=False, cos_lr=False, close_mosaic=10, resume=False, amp=True, fraction=1.0, profile=False, freeze=None, multi_scale=False, overlap_mask=True, mask_ratio=4, dropout=0.0, val=True, split=val, save_json=False, save_hybrid=False, conf=None, iou=0.7, max_det=300, half=False, dnn=False, plots=True, source=None, vid_stride=1, stream_buffer=False, visualize=False, augment=False, agnostic_nms=False, classes=None, retina_masks=False, embed=None, show=False, save_frames=False, save_txt=False, save_conf=False, save_crop=False, show_labels=True, show_conf=True, show_boxes=True, line_width=None, format=torchscript, keras=False, optimize=False, int8=False, dynamic=False, simplify=False, opset=None, workspace=4, nms=False, lr0=0.01, lrf=0.01, momentum=0.937, weight_decay=0.0005, warmup_epochs=3.0, warmup_momentum=0.8, warmup_bias_lr=0.1, box=7.5, cls=0.5, dfl=1.5, pose=12.0, kobj=1.0, label_smoothing=0.0, nbs=64, hsv_h=0.015, hsv_s=0.7, hsv_v=0.4, degrees=0.0, translate=0.1, scale=0.5, shear=0.0, perspective=0.0, flipud=0.0, fliplr=0.5, bgr=0.0, mosaic=1.0, mixup=0.0, copy_paste=0.0, auto_augment=randaugment, erasing=0.4, crop_fraction=1.0, cfg=None, tracker=botsort.yaml, save_dir=/Users/pawelkwiatkowski/projects/football_analysis/runs/detect/train\r\n",
      "Overriding model.yaml nc=80 with nc=4\r\n",
      "\r\n",
      "                   from  n    params  module                                       arguments                     \r\n",
      "  0                  -1  1      8800  ultralytics.nn.modules.conv.Conv             [3, 80, 6, 2, 2]              \r\n",
      "  1                  -1  1    115520  ultralytics.nn.modules.conv.Conv             [80, 160, 3, 2]               \r\n",
      "  2                  -1  4    309120  ultralytics.nn.modules.block.C3              [160, 160, 4]                 \r\n",
      "  3                  -1  1    461440  ultralytics.nn.modules.conv.Conv             [160, 320, 3, 2]              \r\n",
      "  4                  -1  8   2259200  ultralytics.nn.modules.block.C3              [320, 320, 8]                 \r\n",
      "  5                  -1  1   1844480  ultralytics.nn.modules.conv.Conv             [320, 640, 3, 2]              \r\n",
      "  6                  -1 12  13125120  ultralytics.nn.modules.block.C3              [640, 640, 12]                \r\n",
      "  7                  -1  1   7375360  ultralytics.nn.modules.conv.Conv             [640, 1280, 3, 2]             \r\n",
      "  8                  -1  4  19676160  ultralytics.nn.modules.block.C3              [1280, 1280, 4]               \r\n",
      "  9                  -1  1   4099840  ultralytics.nn.modules.block.SPPF            [1280, 1280, 5]               \r\n",
      " 10                  -1  1    820480  ultralytics.nn.modules.conv.Conv             [1280, 640, 1, 1]             \r\n",
      " 11                  -1  1         0  torch.nn.modules.upsampling.Upsample         [None, 2, 'nearest']          \r\n",
      " 12             [-1, 6]  1         0  ultralytics.nn.modules.conv.Concat           [1]                           \r\n",
      " 13                  -1  4   5332480  ultralytics.nn.modules.block.C3              [1280, 640, 4, False]         \r\n",
      " 14                  -1  1    205440  ultralytics.nn.modules.conv.Conv             [640, 320, 1, 1]              \r\n",
      " 15                  -1  1         0  torch.nn.modules.upsampling.Upsample         [None, 2, 'nearest']          \r\n",
      " 16             [-1, 4]  1         0  ultralytics.nn.modules.conv.Concat           [1]                           \r\n",
      " 17                  -1  4   1335040  ultralytics.nn.modules.block.C3              [640, 320, 4, False]          \r\n",
      " 18                  -1  1    922240  ultralytics.nn.modules.conv.Conv             [320, 320, 3, 2]              \r\n",
      " 19            [-1, 14]  1         0  ultralytics.nn.modules.conv.Concat           [1]                           \r\n",
      " 20                  -1  4   4922880  ultralytics.nn.modules.block.C3              [640, 640, 4, False]          \r\n",
      " 21                  -1  1   3687680  ultralytics.nn.modules.conv.Conv             [640, 640, 3, 2]              \r\n",
      " 22            [-1, 10]  1         0  ultralytics.nn.modules.conv.Concat           [1]                           \r\n",
      " 23                  -1  4  19676160  ultralytics.nn.modules.block.C3              [1280, 1280, 4, False]        \r\n",
      " 24        [17, 20, 23]  1  11025820  ultralytics.nn.modules.head.Detect           [4, [320, 640, 1280]]         \r\n",
      "YOLOv5x summary: 493 layers, 97203260 parameters, 97203244 gradients, 246.9 GFLOPs\r\n",
      "\r\n",
      "Transferred 817/823 items from pretrained weights\r\n",
      "Freezing layer 'model.24.dfl.conv.weight'\r\n",
      "\u001B[34m\u001B[1mtrain: \u001B[0mScanning /Users/pawelkwiatkowski/projects/football_analysis/training/foot\u001B[0m\r\n",
      "\u001B[34m\u001B[1mtrain: \u001B[0mNew cache created: /Users/pawelkwiatkowski/projects/football_analysis/training/football-players-detection-1/football-players-detection-1/train/labels.cache\r\n",
      "\u001B[34m\u001B[1mval: \u001B[0mScanning /Users/pawelkwiatkowski/projects/football_analysis/training/footba\u001B[0m\r\n",
      "\u001B[34m\u001B[1mval: \u001B[0mNew cache created: /Users/pawelkwiatkowski/projects/football_analysis/training/football-players-detection-1/football-players-detection-1/valid/labels.cache\r\n",
      "Plotting labels to /Users/pawelkwiatkowski/projects/football_analysis/runs/detect/train/labels.jpg... \r\n",
      "\u001B[34m\u001B[1moptimizer:\u001B[0m 'optimizer=auto' found, ignoring 'lr0=0.01' and 'momentum=0.937' and determining best 'optimizer', 'lr0' and 'momentum' automatically... \r\n",
      "\u001B[34m\u001B[1moptimizer:\u001B[0m AdamW(lr=0.00125, momentum=0.9) with parameter groups 135 weight(decay=0.0), 142 weight(decay=0.0005), 141 bias(decay=0.0)\r\n",
      "Image sizes 640 train, 640 val\r\n",
      "Using 0 dataloader workers\r\n",
      "Logging results to \u001B[1m/Users/pawelkwiatkowski/projects/football_analysis/runs/detect/train\u001B[0m\r\n",
      "Starting training for 100 epochs...\r\n",
      "\r\n",
      "      Epoch    GPU_mem   box_loss   cls_loss   dfl_loss  Instances       Size\r\n",
      "      1/100         0G      1.168      1.266     0.8216        154        640: 1\r\n",
      "                 Class     Images  Instances      Box(P          R      mAP50  m\r\n",
      "                   all         38        905      0.335      0.436      0.329      0.185\r\n",
      "\r\n",
      "      Epoch    GPU_mem   box_loss   cls_loss   dfl_loss  Instances       Size\r\n",
      "      2/100         0G      1.118     0.7386     0.8133        720        640:  ^C\r\n"
     ]
    }
   ],
   "source": [
    "!yolo task=detect mode=train model=yolov5x.pt data={dataset.location}/data.yaml epochs=100 imgsz=640"
   ],
   "metadata": {
    "collapsed": false,
    "ExecuteTime": {
     "end_time": "2024-05-26T20:12:37.942792Z",
     "start_time": "2024-05-26T18:44:39.375345Z"
    }
   },
   "id": "689feefa73a49dad",
   "execution_count": 6
  },
  {
   "cell_type": "code",
   "outputs": [],
   "source": [],
   "metadata": {
    "collapsed": false
   },
   "id": "f4d1c53af62a03b0"
  }
 ],
 "metadata": {
  "kernelspec": {
   "display_name": "Python 3",
   "language": "python",
   "name": "python3"
  },
  "language_info": {
   "codemirror_mode": {
    "name": "ipython",
    "version": 2
   },
   "file_extension": ".py",
   "mimetype": "text/x-python",
   "name": "python",
   "nbconvert_exporter": "python",
   "pygments_lexer": "ipython2",
   "version": "2.7.6"
  }
 },
 "nbformat": 4,
 "nbformat_minor": 5
}
